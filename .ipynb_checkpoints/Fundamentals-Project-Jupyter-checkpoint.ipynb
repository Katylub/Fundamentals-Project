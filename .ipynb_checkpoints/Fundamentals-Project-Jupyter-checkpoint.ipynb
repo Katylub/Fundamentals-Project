{
 "cells": [
  {
   "cell_type": "markdown",
   "metadata": {},
   "source": [
    "# Tips Dataset\n",
    "_______________________________________________________________________________________________________________________________"
   ]
  },
  {
   "cell_type": "markdown",
   "metadata": {},
   "source": [
    "## Introduction \n",
    "\n",
    "\n",
    "This document has been created to understand the well know Tips Dataset, we will evaluate the information, using Python packages and Seaborn plots to understand the data working in Jupyter. \n",
    "\n",
    "\n",
    "The project is separated in three main areas: \n",
    "\n",
    "- Description: Descriptive statistics and plots to understand tips dataset. \n",
    "- Regression: Analyse relationship between the total bill and tip amount.\n",
    "- Analyse:  Analyse the relationship between the variables within the datase.\n",
    "\n",
    "### About Tips Dataset \n",
    "\n",
    "One waiter recorded information about each tip he received over a period of two and a half month working in one restaurant in early 1990. The restaurant, located in a suburban shopping mall, was one of a national chain and served a varied menu. In observance of local law the restaurant offered seating in a non-smoking sections to patrons who requested it. The data\n",
    "was assigned to those days and during those times when the food server was routinely assigned to work.\n",
    "\n",
    "Tips Dataset contains a dataframe with 244 obervations on 8 variables, that allow hospitality managers understand the factors that influence their business, incuding size of the party, smoking preferences, table size, among others.\n",
    "\n",
    "\n",
    "\n",
    " "
   ]
  },
  {
   "cell_type": "markdown",
   "metadata": {},
   "source": [
    "# Description: \n",
    "In this section we will understand better the Tips Dataset using statistics and plots\n",
    "_______________________________________________________________________________________________________________________________\n"
   ]
  },
  {
   "cell_type": "markdown",
   "metadata": {},
   "source": [
    "### Import Libraries: \n",
    "As first step we need to import the libraries we will use, this will help to analyse the data in a more efficient way"
   ]
  },
  {
   "cell_type": "code",
   "execution_count": null,
   "metadata": {},
   "outputs": [],
   "source": [
    "import numpy as np\n",
    "import pandas as pd\n",
    "import matplotlib.pyplot as plt\n",
    "import seaborn as sns"
   ]
  },
  {
   "cell_type": "markdown",
   "metadata": {},
   "source": [
    "### Load Dataset: \n",
    "\n",
    "The data can be loaded from a CSV file. You can also see the document in the repository of this project. "
   ]
  },
  {
   "cell_type": "code",
   "execution_count": null,
   "metadata": {},
   "outputs": [],
   "source": [
    "df= pd.read_csv(\"tips dataset.csv\")"
   ]
  },
  {
   "cell_type": "markdown",
   "metadata": {},
   "source": [
    "### Check Dimension Dataset: \n",
    "the dataset contains 244 attributes under 8 variables, as we can see when we print the shape."
   ]
  },
  {
   "cell_type": "code",
   "execution_count": null,
   "metadata": {},
   "outputs": [],
   "source": [
    "print (df.shape)"
   ]
  },
  {
   "cell_type": "markdown",
   "metadata": {},
   "source": [
    "### Evaluate the Data: \n",
    "First of all we want to take a look of the attributes presented in the data, so we print the first rows of the dataset and we can see for Tips dataset we have 8 variables which are 4 numeric (ID, total_bill,tip and size) and 4 strings (sex,smoker, day and time).\n",
    "\n",
    "It is also recommended to review the tail, to make sure there is consistency on the data and it is easier to notice if there is any change or information missed. In the example below, we don't see significant difference from the head and as expected there is a total of 244 observations which indicates we can work with the data."
   ]
  },
  {
   "cell_type": "code",
   "execution_count": null,
   "metadata": {},
   "outputs": [],
   "source": [
    "print (df.head())"
   ]
  },
  {
   "cell_type": "code",
   "execution_count": null,
   "metadata": {},
   "outputs": [],
   "source": [
    "print (df.tail())"
   ]
  },
  {
   "cell_type": "markdown",
   "metadata": {},
   "source": [
    "### Summary of each attribute and other observations:\n",
    "We can see the summary of the attributes which include minimum, maximum, standards, percentiles among other information with the describe formula. \n",
    "\n",
    "From the information below we observe: \n",
    "\n",
    "- The average bill was 20 dollars with an average tip of 3 dollars, which means in standard the parties paid around 15% in tips. This is a reasonable standard amount for tips in America. \n",
    "- The minimun Bill was 3 dollars and the maximum 51 dollars, which means the restaurant is price friendly. Considering the maximum is for more than one person. \n",
    "- The size of tables are from 1 to 6 people, we can consider the place do not have espace for big amount of people in one service. "
   ]
  },
  {
   "cell_type": "code",
   "execution_count": null,
   "metadata": {},
   "outputs": [],
   "source": [
    "print (df.describe())"
   ]
  },
  {
   "cell_type": "markdown",
   "metadata": {},
   "source": [
    "### Tables Views"
   ]
  },
  {
   "cell_type": "markdown",
   "metadata": {},
   "source": [
    "**View 1:** In the table below we compared the number of days and the party size and observe:\n",
    "\n",
    "- Monday, Tuesday and Wednesday were not taken in consideration for this dataset purpose, or there is the possibility that the waitress did not have shift at these days. \n",
    "- The average visit of parties on Fridays is considerable low compared with the rest of the days recorded. There should be evaluated the causes this is not a normal average for Friday, althought the possibility the waitress worked a limit ammount of hours should be consider as well. \n",
    "- The days with more visit are Saturdays followed by Sundays as expected for weekends"
   ]
  },
  {
   "cell_type": "code",
   "execution_count": null,
   "metadata": {},
   "outputs": [],
   "source": [
    "print(df.groupby('day').size())"
   ]
  },
  {
   "cell_type": "markdown",
   "metadata": {},
   "source": [
    "**View 2:** In the table below we compared the day of the week and time of visit, taking gender per count and observe:\n",
    "\n",
    "- There is no recorder information on lunch for Saturday or Sunday which mean most of the visitors go for dinner on weekends\n",
    "- There is just 1 visit for dinner on Thursday which is not a normal rate compared with the rest of 61 that visited during lunch. Need to be reviewed to apply changes as necessary\n",
    "- In general, there is more visit of people for dinner"
   ]
  },
  {
   "cell_type": "code",
   "execution_count": null,
   "metadata": {},
   "outputs": [],
   "source": [
    "df[['day', 'time', 'sex']].groupby(['day', 'time']).count()"
   ]
  },
  {
   "cell_type": "markdown",
   "metadata": {},
   "source": [
    "**View 3:** In the table below we compared the number of males and females that visited the restaurant and we see that there are more males that go to the restaurant than females. "
   ]
  },
  {
   "cell_type": "code",
   "execution_count": null,
   "metadata": {},
   "outputs": [],
   "source": [
    "print(df.groupby('sex').size())"
   ]
  },
  {
   "cell_type": "markdown",
   "metadata": {},
   "source": [
    "**View 4:** In the table below we compared the average bill and tips per gender. \n",
    "\n",
    "- In average men pay slightly more in bills and give slightly less tips than females, if we compare by percentaje the media between the ammount they pay for total of the bill and the tip.  \n",
    "- Men and woman has similar size of tables media, there is not considerable difference"
   ]
  },
  {
   "cell_type": "code",
   "execution_count": null,
   "metadata": {},
   "outputs": [],
   "source": [
    "print(df.groupby('sex').mean())\n"
   ]
  },
  {
   "cell_type": "markdown",
   "metadata": {},
   "source": [
    "**View 5:** In the table below we compared the gender and size of tables per day of week and observe:\n",
    "\n",
    "- Woman prefer the visit on Thursday and Saturday \n",
    "- Men give preferences to Saturday and Sundays"
   ]
  },
  {
   "cell_type": "code",
   "execution_count": null,
   "metadata": {},
   "outputs": [],
   "source": [
    "df[['day', 'sex', 'size']].groupby(['day', 'sex']).count()"
   ]
  },
  {
   "cell_type": "markdown",
   "metadata": {},
   "source": [
    "**View 6:** In the table below we compared smoker per gender, counting with the size and observe:\n",
    "\n",
    "- More parties were seated in the non smoking section, no significant different between mena and woman in percentage"
   ]
  },
  {
   "cell_type": "code",
   "execution_count": null,
   "metadata": {},
   "outputs": [],
   "source": [
    "df[['sex', 'smoker', 'size']].groupby(['sex', 'smoker']).count()"
   ]
  },
  {
   "cell_type": "markdown",
   "metadata": {},
   "source": [
    "**View 7:** In the table below we compared tip per gender and size of the table and observe:\n",
    "\n",
    "- More parties were seated in the non smoking section, no significant different between mena and woman in percentage"
   ]
  },
  {
   "cell_type": "code",
   "execution_count": null,
   "metadata": {},
   "outputs": [],
   "source": [
    "df[['sex', 'size', 'tip']].groupby(['sex', 'size']).mean()"
   ]
  },
  {
   "cell_type": "code",
   "execution_count": null,
   "metadata": {},
   "outputs": [],
   "source": [
    "sns.pairplot (df, hue=\"total_bill\")"
   ]
  },
  {
   "cell_type": "markdown",
   "metadata": {},
   "source": [
    "# Regresion\n",
    "Analyses relationship between the total bill and tip amount\n",
    "_______________________________________________________________________________________________________________________________"
   ]
  },
  {
   "cell_type": "markdown",
   "metadata": {},
   "source": [
    "Analysis"
   ]
  },
  {
   "cell_type": "code",
   "execution_count": null,
   "metadata": {},
   "outputs": [],
   "source": [
    "%matplotlib inline"
   ]
  },
  {
   "cell_type": "code",
   "execution_count": null,
   "metadata": {},
   "outputs": [],
   "source": [
    "tb= df['total_bill']\n",
    "ta= df['tip']"
   ]
  },
  {
   "cell_type": "code",
   "execution_count": null,
   "metadata": {},
   "outputs": [],
   "source": [
    "np.polyfit(tb,ta,1)"
   ]
  },
  {
   "cell_type": "markdown",
   "metadata": {},
   "source": [
    "Find values for m and c that gives the lowest"
   ]
  },
  {
   "cell_type": "code",
   "execution_count": null,
   "metadata": {},
   "outputs": [],
   "source": [
    "tb_avg=np.mean(tb)\n",
    "ta_avg=np.mean(ta)"
   ]
  },
  {
   "cell_type": "code",
   "execution_count": null,
   "metadata": {},
   "outputs": [],
   "source": [
    "tb_zero=tb - tb_avg\n",
    "ta_zero=ta - ta_avg"
   ]
  },
  {
   "cell_type": "code",
   "execution_count": null,
   "metadata": {},
   "outputs": [],
   "source": [
    "m=np.sum(tb_zero*ta_zero)/np.sum(tb_zero*tb_zero)"
   ]
  },
  {
   "cell_type": "code",
   "execution_count": null,
   "metadata": {},
   "outputs": [],
   "source": [
    "c=ta_avg- m * tb_avg"
   ]
  },
  {
   "cell_type": "code",
   "execution_count": null,
   "metadata": {},
   "outputs": [],
   "source": [
    "print (m,c)"
   ]
  },
  {
   "cell_type": "code",
   "execution_count": null,
   "metadata": {},
   "outputs": [],
   "source": []
  },
  {
   "cell_type": "markdown",
   "metadata": {},
   "source": [
    "Plot the best fit"
   ]
  },
  {
   "cell_type": "code",
   "execution_count": null,
   "metadata": {},
   "outputs": [],
   "source": [
    "plt.plot (tb,ta,\"k.\",label='Original data')\n",
    "plt.plot (tb, m*tb+c,'b-', label='The best tip')"
   ]
  },
  {
   "cell_type": "code",
   "execution_count": null,
   "metadata": {},
   "outputs": [],
   "source": []
  },
  {
   "cell_type": "code",
   "execution_count": null,
   "metadata": {},
   "outputs": [],
   "source": []
  },
  {
   "cell_type": "markdown",
   "metadata": {},
   "source": [
    "\n",
    "References:\n",
    "\n",
    "- https://en.wikipedia.org/wiki/Data_set\n",
    "- https://rdrr.io/cran/regclass/man/TIPS.html\n",
    "- https://dicook.public.iastate.edu/stat503/05/cs-tips2.pdf\n",
    "- https://towardsdatascience.com/analyze-the-data-through-data-visualization-using-seaborn-255e1cd3948e\n",
    "- https://amitkushwaha.co.in/data-visualization-part-1.html\n",
    "- https://towardsdatascience.com/introduction-to-data-visualization-in-python-89a54c97fbed X\n",
    "- https://towardsdatascience.com/visualizing-data-with-pair-plots-in-python-f228cf529166 X\n",
    "- https://swcarpentry.github.io/python-novice-gapminder/09-plotting/\n",
    "- https://matplotlib.org/3.1.1/tutorials/introductory/sample_plots.html\n",
    "https://medium.com/@madanflies/linear-regression-on-carprice-dataset-or-encoding-a-categorical-dataset-in-linear-regression-7378f207e5c1\n",
    "https://towardsdatascience.com/linear-regression-on-boston-housing-dataset-f409b7e4a155\n",
    "https://towardsdatascience.com/simple-and-multiple-linear-regression-with-python-c9ab422ec29c"
   ]
  },
  {
   "cell_type": "code",
   "execution_count": null,
   "metadata": {},
   "outputs": [],
   "source": []
  },
  {
   "cell_type": "code",
   "execution_count": null,
   "metadata": {},
   "outputs": [],
   "source": []
  },
  {
   "cell_type": "code",
   "execution_count": null,
   "metadata": {},
   "outputs": [],
   "source": []
  },
  {
   "cell_type": "code",
   "execution_count": null,
   "metadata": {},
   "outputs": [],
   "source": []
  },
  {
   "cell_type": "code",
   "execution_count": null,
   "metadata": {},
   "outputs": [],
   "source": []
  },
  {
   "cell_type": "code",
   "execution_count": null,
   "metadata": {},
   "outputs": [],
   "source": []
  },
  {
   "cell_type": "code",
   "execution_count": null,
   "metadata": {},
   "outputs": [],
   "source": []
  },
  {
   "cell_type": "code",
   "execution_count": null,
   "metadata": {},
   "outputs": [],
   "source": []
  },
  {
   "cell_type": "code",
   "execution_count": null,
   "metadata": {},
   "outputs": [],
   "source": []
  },
  {
   "cell_type": "code",
   "execution_count": null,
   "metadata": {},
   "outputs": [],
   "source": []
  },
  {
   "cell_type": "code",
   "execution_count": null,
   "metadata": {},
   "outputs": [],
   "source": []
  },
  {
   "cell_type": "code",
   "execution_count": null,
   "metadata": {},
   "outputs": [],
   "source": []
  },
  {
   "cell_type": "code",
   "execution_count": null,
   "metadata": {},
   "outputs": [],
   "source": []
  },
  {
   "cell_type": "code",
   "execution_count": null,
   "metadata": {},
   "outputs": [],
   "source": []
  },
  {
   "cell_type": "code",
   "execution_count": null,
   "metadata": {},
   "outputs": [],
   "source": []
  },
  {
   "cell_type": "code",
   "execution_count": null,
   "metadata": {},
   "outputs": [],
   "source": []
  },
  {
   "cell_type": "code",
   "execution_count": null,
   "metadata": {},
   "outputs": [],
   "source": []
  },
  {
   "cell_type": "code",
   "execution_count": null,
   "metadata": {},
   "outputs": [],
   "source": []
  }
 ],
 "metadata": {
  "kernelspec": {
   "display_name": "Python 3",
   "language": "python",
   "name": "python3"
  }
 },
 "nbformat": 4,
 "nbformat_minor": 2
}
