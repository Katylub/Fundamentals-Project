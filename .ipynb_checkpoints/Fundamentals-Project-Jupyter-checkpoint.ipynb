{
 "cells": [
  {
   "cell_type": "markdown",
   "metadata": {},
   "source": [
    "# Tips Dataset \n",
    "\n",
    "### What's Data set?\n",
    "\n",
    "A data set (or dataset) is a collection of data. In the case of tabular data, a data set corresponds to one or more database tables, where every column of a table represents a particular variable, and each row corresponds to a given record of the data set in question. The data set lists values for each of the variables, such as height and weight of an object, for each member of the data set. Each value is known as a datum. Data sets can also consist of a collection of documents or files.\n",
    "\n",
    "## Introduction about Tips Dataset \n",
    "\n",
    "One waiter recorded information about each tip he received over a period of and a half working in one restaurant in early 1990. The restaurant, located in a suburban shopping mall, was one of a national chain and served a varied menu. In observance\n",
    "of local law the restaurant offered seating in a non-smoking sections to patrons who requested it. The data\n",
    "was assigned to those days and during those times when the food server was routinely assigned to work.\n",
    "\n",
    "Tips Dataset contains a dataframe with 244 obervations on 8 variables, that allow to hospitality managers understand the factors that influence their business, incuding size of the party, smoking preferences, table locations, etc. \n",
    "\n",
    "\n",
    "He collected several variables:\n",
    "\n",
    "### Variables\n",
    "\n",
    "- TipPercentage: a numeric vector, the tip written as a percentage (0-100) of the total bill\n",
    "\n",
    "- Bill: a numeric vector, the bill amount (dollars)\n",
    "\n",
    "- Tip: a numeric vector, the tip amount (dollars)\n",
    "\n",
    "- Gender: a factor with: levels Female Male, gender of the payer of the bill\n",
    "\n",
    "- Smoker: a factor with levels No Yes, whether the party included smokers\n",
    "\n",
    "- Weekday: a factor with levels Friday Saturday Sunday Thursday, day of the week\n",
    "\n",
    "- Time: a factor with levels Day Night, rough time of day\n",
    "\n",
    "- PartySize: a numeric vector, number of people in party"
   ]
  },
  {
   "cell_type": "code",
   "execution_count": null,
   "metadata": {},
   "outputs": [],
   "source": []
  },
  {
   "cell_type": "code",
   "execution_count": null,
   "metadata": {},
   "outputs": [],
   "source": []
  },
  {
   "cell_type": "code",
   "execution_count": 1,
   "metadata": {},
   "outputs": [],
   "source": [
    "References:\n",
    "    https://en.wikipedia.org/wiki/Data_set\n",
    "    - https://rdrr.io/cran/regclass/man/TIPS.html\n",
    "        "
   ]
  },
  {
   "cell_type": "code",
   "execution_count": null,
   "metadata": {},
   "outputs": [],
   "source": []
  }
 ],
 "metadata": {
  "kernelspec": {
   "display_name": "Python 3",
   "language": "python",
   "name": "python3"
  },
  "language_info": {
   "codemirror_mode": {
    "name": "ipython",
    "version": 3
   },
   "file_extension": ".py",
   "mimetype": "text/x-python",
   "name": "python",
   "nbconvert_exporter": "python",
   "pygments_lexer": "ipython3",
   "version": "3.7.1"
  }
 },
 "nbformat": 4,
 "nbformat_minor": 2
}
