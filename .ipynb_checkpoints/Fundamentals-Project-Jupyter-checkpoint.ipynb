{
 "cells": [
  {
   "cell_type": "markdown",
   "metadata": {},
   "source": [
    "# Tips Dataset \n",
    "\n",
    "### What's Data set?\n",
    "\n",
    "A data set (or dataset) is a collection of data. In the case of tabular data, a data set corresponds to one or more database tables, where every column of a table represents a particular variable, and each row corresponds to a given record of the data set in question. The data set lists values for each of the variables, such as height and weight of an object, for each member of the data set. Each value is known as a datum. Data sets can also consist of a collection of documents or files.\n",
    "\n",
    "## Introduction about Tips Dataset \n",
    "\n",
    "One waiter recorded information about each tip he received over a period of and a half working in one restaurant in early 1990. The restaurant, located in a suburban shopping mall, was one of a national chain and served a varied menu. In observance\n",
    "of local law the restaurant offered seating in a non-smoking sections to patrons who requested it. The data\n",
    "was assigned to those days and during those times when the food server was routinely assigned to work.\n",
    "\n",
    "Tips Dataset contains a dataframe with 244 obervations on 8 variables, that allow to hospitality managers understand the factors that influence their business, incuding size of the party, smoking preferences, table locations, etc. \n",
    "\n",
    "\n",
    "He collected several variables:\n",
    "\n",
    "### Variables\n",
    "\n",
    "- TipPercentage: a numeric vector, the tip written as a percentage (0-100) of the total bill\n",
    "\n",
    "- Bill: a numeric vector, the bill amount (dollars)\n",
    "\n",
    "- Tip: a numeric vector, the tip amount (dollars)\n",
    "\n",
    "- Gender: a factor with: levels Female Male, gender of the payer of the bill\n",
    "\n",
    "- Smoker: a factor with levels No Yes, whether the party included smokers\n",
    "\n",
    "- Weekday: a factor with levels Friday Saturday Sunday Thursday, day of the week\n",
    "\n",
    "- Time: a factor with levels Day Night, rough time of day\n",
    "\n",
    "- PartySize: a numeric vector, number of people in party"
   ]
  },
  {
   "cell_type": "markdown",
   "metadata": {},
   "source": [
    "### Import Libraries: \n",
    "The libraries will help to analyse the data in a more efficient way"
   ]
  },
  {
   "cell_type": "code",
   "execution_count": 4,
   "metadata": {},
   "outputs": [],
   "source": [
    "import numpy as np\n",
    "import pandas as pd\n",
    "import matplotlib.pyplot as plt\n",
    "import seaborn as sns"
   ]
  },
  {
   "cell_type": "markdown",
   "metadata": {},
   "source": [
    "### Load Dataset: \n",
    "\n",
    "The data can be loaded from a CSV file"
   ]
  },
  {
   "cell_type": "code",
   "execution_count": 5,
   "metadata": {},
   "outputs": [],
   "source": [
    "df= pd.read_csv(\"tips dataset.csv\")"
   ]
  },
  {
   "cell_type": "markdown",
   "metadata": {},
   "source": []
  },
  {
   "cell_type": "markdown",
   "metadata": {},
   "source": [
    "### Check Dimension Dataset: \n",
    "the dataset contains 244 attributes under 8 variables "
   ]
  },
  {
   "cell_type": "code",
   "execution_count": 12,
   "metadata": {},
   "outputs": [
    {
     "name": "stdout",
     "output_type": "stream",
     "text": [
      "(244, 8)\n"
     ]
    }
   ],
   "source": [
    "print (df.shape)"
   ]
  },
  {
   "cell_type": "markdown",
   "metadata": {},
   "source": [
    "### Evaluate the Data: \n",
    "We can see how the attributes are presented by 8 variables - 4 numeric and 4 strings.\n",
    "With the tail we make sure there is consistency on the data, so it's important to review as well. \n",
    "\n"
   ]
  },
  {
   "cell_type": "code",
   "execution_count": 7,
   "metadata": {},
   "outputs": [
    {
     "name": "stdout",
     "output_type": "stream",
     "text": [
      "   Unnamed: 0  total_bill   tip     sex smoker  day    time  size\n",
      "0           1       16.99  1.01  Female     No  Sun  Dinner     2\n",
      "1           2       10.34  1.66    Male     No  Sun  Dinner     3\n",
      "2           3       21.01  3.50    Male     No  Sun  Dinner     3\n",
      "3           4       23.68  3.31    Male     No  Sun  Dinner     2\n",
      "4           5       24.59  3.61  Female     No  Sun  Dinner     4\n"
     ]
    }
   ],
   "source": [
    "print (df.head())"
   ]
  },
  {
   "cell_type": "code",
   "execution_count": 8,
   "metadata": {},
   "outputs": [
    {
     "name": "stdout",
     "output_type": "stream",
     "text": [
      "     Unnamed: 0  total_bill   tip     sex smoker   day    time  size\n",
      "239         240       29.03  5.92    Male     No   Sat  Dinner     3\n",
      "240         241       27.18  2.00  Female    Yes   Sat  Dinner     2\n",
      "241         242       22.67  2.00    Male    Yes   Sat  Dinner     2\n",
      "242         243       17.82  1.75    Male     No   Sat  Dinner     2\n",
      "243         244       18.78  3.00  Female     No  Thur  Dinner     2\n"
     ]
    }
   ],
   "source": [
    "print (df.tail())"
   ]
  },
  {
   "cell_type": "markdown",
   "metadata": {},
   "source": [
    "### Summary of each attribute\n",
    "We can see the count, min, max, standard and percentiles. Also that all the values has a similar range between 0 and 8\n",
    "- The minimun tip was 1 dollar and the max 10\n",
    "- The minimun Bill was 3.07 dollar and the max 50.81\n",
    "- The size of table are from 1 to 6 people\n"
   ]
  },
  {
   "cell_type": "code",
   "execution_count": 10,
   "metadata": {},
   "outputs": [
    {
     "name": "stdout",
     "output_type": "stream",
     "text": [
      "       Unnamed: 0  total_bill         tip        size\n",
      "count  244.000000  244.000000  244.000000  244.000000\n",
      "mean   122.500000   19.785943    2.998279    2.569672\n",
      "std     70.580923    8.902412    1.383638    0.951100\n",
      "min      1.000000    3.070000    1.000000    1.000000\n",
      "25%     61.750000   13.347500    2.000000    2.000000\n",
      "50%    122.500000   17.795000    2.900000    2.000000\n",
      "75%    183.250000   24.127500    3.562500    3.000000\n",
      "max    244.000000   50.810000   10.000000    6.000000\n"
     ]
    }
   ],
   "source": [
    "print (df.describe())"
   ]
  },
  {
   "cell_type": "markdown",
   "metadata": {},
   "source": [
    "### Days Distribution\n",
    "We can see that the frequency vary depending on the day "
   ]
  },
  {
   "cell_type": "code",
   "execution_count": 11,
   "metadata": {},
   "outputs": [
    {
     "name": "stdout",
     "output_type": "stream",
     "text": [
      "day\n",
      "Fri     19\n",
      "Sat     87\n",
      "Sun     76\n",
      "Thur    62\n",
      "dtype: int64\n"
     ]
    }
   ],
   "source": [
    "print(df.groupby('day').size())"
   ]
  },
  {
   "cell_type": "code",
   "execution_count": null,
   "metadata": {},
   "outputs": [],
   "source": []
  },
  {
   "cell_type": "code",
   "execution_count": 2,
   "metadata": {},
   "outputs": [],
   "source": []
  },
  {
   "cell_type": "code",
   "execution_count": 3,
   "metadata": {},
   "outputs": [],
   "source": [
    "A"
   ]
  },
  {
   "cell_type": "markdown",
   "metadata": {},
   "source": [
    "References:\n",
    "    https://en.wikipedia.org/wiki/Data_set\n",
    "    - https://rdrr.io/cran/regclass/man/TIPS.html\n",
    "        https://dicook.public.iastate.edu/stat503/05/cs-tips2.pdf\n",
    "        https://towardsdatascience.com/analyze-the-data-through-data-visualization-using-seaborn-255e1cd3948e\n",
    "        "
   ]
  },
  {
   "cell_type": "code",
   "execution_count": null,
   "metadata": {},
   "outputs": [],
   "source": []
  },
  {
   "cell_type": "code",
   "execution_count": null,
   "metadata": {},
   "outputs": [],
   "source": []
  }
 ],
 "metadata": {
  "kernelspec": {
   "display_name": "Python 3",
   "language": "python",
   "name": "python3"
  },
  "language_info": {
   "codemirror_mode": {
    "name": "ipython",
    "version": 3
   },
   "file_extension": ".py",
   "mimetype": "text/x-python",
   "name": "python",
   "nbconvert_exporter": "python",
   "pygments_lexer": "ipython3",
   "version": "3.7.4"
  }
 },
 "nbformat": 4,
 "nbformat_minor": 2
}
