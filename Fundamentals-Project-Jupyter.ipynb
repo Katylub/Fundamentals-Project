{
 "cells": [
  {
   "cell_type": "markdown",
   "metadata": {},
   "source": [
    "# Tips Dataset\n",
    "_______________________________________________________________________________________________________________________________"
   ]
  },
  {
   "cell_type": "markdown",
   "metadata": {},
   "source": [
    "## Introduction \n",
    "\n",
    "\n",
    "This document has been created to understand the well know Tips Dataset, using Pythons packages, Seaborn and Jupyter Notebook.\n",
    "\n",
    "The project is separated in three main areas: \n",
    "\n",
    "- Description: Descriptive statistics and plots to understand tips dataset. \n",
    "- Regression: Analyse relationship between the total bill and tip amount.\n",
    "- Analyse:  Analyse the relationship between the variables within the datase.\n",
    "\n",
    "### About Tips Dataset \n",
    "\n",
    "One waiter recorded information about each tip he received over a period of two and a half month working in one restaurant in early 1990. The restaurant, located in a suburban shopping mall, was one of a national chain and served a varied menu. In observance of local law the restaurant offered seating in a non-smoking sections to patrons who requested it. The data\n",
    "was assigned to those days and during those times when the food server was routinely assigned to work.\n",
    "\n",
    "Tips Dataset contains a dataframe with 244 obervations on 8 variables, that allow hospitality managers understand the factors that influence their business, incuding size of the party, smoking preferences, table size, among others.\n",
    "\n",
    "\n",
    "\n",
    " "
   ]
  },
  {
   "cell_type": "markdown",
   "metadata": {},
   "source": [
    "# Description: \n",
    "In this section we will understand better the Tips Dataset using statistics and plots\n",
    "_______________________________________________________________________________________________________________________________\n"
   ]
  },
  {
   "cell_type": "markdown",
   "metadata": {},
   "source": [
    "### Import Libraries: \n",
    "As first step we need to import the libraries we will use, this will help to analyse the data in a more efficient way"
   ]
  },
  {
   "cell_type": "code",
   "execution_count": 45,
   "metadata": {},
   "outputs": [],
   "source": [
    "import numpy as np\n",
    "import pandas as pd\n",
    "import matplotlib.pyplot as plt\n",
    "import seaborn as sns"
   ]
  },
  {
   "cell_type": "markdown",
   "metadata": {},
   "source": [
    "### Load Dataset: \n",
    "\n",
    "The data can be loaded from a CSV file. You can also see the document in the repository of this project. "
   ]
  },
  {
   "cell_type": "code",
   "execution_count": 46,
   "metadata": {},
   "outputs": [],
   "source": [
    "df= pd.read_csv(\"tips dataset.csv\")"
   ]
  },
  {
   "cell_type": "markdown",
   "metadata": {},
   "source": [
    "### Check Dimension Dataset: \n",
    "the dataset contains 244 attributes under 8 variables, as we can see when we print the shape."
   ]
  },
  {
   "cell_type": "code",
   "execution_count": 47,
   "metadata": {},
   "outputs": [
    {
     "name": "stdout",
     "output_type": "stream",
     "text": [
      "(244, 8)\n"
     ]
    }
   ],
   "source": [
    "print (df.shape)"
   ]
  },
  {
   "cell_type": "markdown",
   "metadata": {},
   "source": [
    "### Evaluate the Data: \n",
    "First of all we want to take a look of the attributes presented in the data, so we print the first rows of the dataset and we can see for Tips dataset we have 8 variables which are 4 numeric (ID, total_bill,tip and size) and 4 strings (sex,smoker, day and time).\n",
    "\n",
    "It is also recommended to review the tail, to make sure there is consistency on the data and it is easier to notice if there is any change or information missed. In the example below, we don't see significant difference from the head and as expected there is a total of 244 observations which indicates we can work with the data."
   ]
  },
  {
   "cell_type": "code",
   "execution_count": 48,
   "metadata": {},
   "outputs": [
    {
     "name": "stdout",
     "output_type": "stream",
     "text": [
      "   Unnamed: 0  total_bill   tip     sex smoker  day    time  size\n",
      "0           1       16.99  1.01  Female     No  Sun  Dinner     2\n",
      "1           2       10.34  1.66    Male     No  Sun  Dinner     3\n",
      "2           3       21.01  3.50    Male     No  Sun  Dinner     3\n",
      "3           4       23.68  3.31    Male     No  Sun  Dinner     2\n",
      "4           5       24.59  3.61  Female     No  Sun  Dinner     4\n"
     ]
    }
   ],
   "source": [
    "print (df.head())"
   ]
  },
  {
   "cell_type": "code",
   "execution_count": 49,
   "metadata": {},
   "outputs": [
    {
     "name": "stdout",
     "output_type": "stream",
     "text": [
      "     Unnamed: 0  total_bill   tip     sex smoker   day    time  size\n",
      "239         240       29.03  5.92    Male     No   Sat  Dinner     3\n",
      "240         241       27.18  2.00  Female    Yes   Sat  Dinner     2\n",
      "241         242       22.67  2.00    Male    Yes   Sat  Dinner     2\n",
      "242         243       17.82  1.75    Male     No   Sat  Dinner     2\n",
      "243         244       18.78  3.00  Female     No  Thur  Dinner     2\n"
     ]
    }
   ],
   "source": [
    "print (df.tail())"
   ]
  },
  {
   "cell_type": "markdown",
   "metadata": {},
   "source": [
    "### Summary of each attribute and other observations:\n",
    "We can see the summary of the attributes which include minimum, maximum, standards, percentiles among other information with the describe formula. \n",
    "\n",
    "From the information below we observe: \n",
    "\n",
    "- The average bill was 20 dollars with an average tip of 3 dollars, which means in standard the restaurant clients paid around 15% in tips. This is a reasonable standard amount for tips in America. \n",
    "- The minimun Bill was 3 dollars and the maximum 51 dollars, which means the restaurant is price friendly. Considering the maximum is for more than one person. \n",
    "- The size of tables are from 1 to 6 people, we can consider the place do not have espace for big amount of people in one service. "
   ]
  },
  {
   "cell_type": "code",
   "execution_count": 50,
   "metadata": {},
   "outputs": [
    {
     "name": "stdout",
     "output_type": "stream",
     "text": [
      "       Unnamed: 0  total_bill         tip        size\n",
      "count  244.000000  244.000000  244.000000  244.000000\n",
      "mean   122.500000   19.785943    2.998279    2.569672\n",
      "std     70.580923    8.902412    1.383638    0.951100\n",
      "min      1.000000    3.070000    1.000000    1.000000\n",
      "25%     61.750000   13.347500    2.000000    2.000000\n",
      "50%    122.500000   17.795000    2.900000    2.000000\n",
      "75%    183.250000   24.127500    3.562500    3.000000\n",
      "max    244.000000   50.810000   10.000000    6.000000\n"
     ]
    }
   ],
   "source": [
    "print (df.describe())"
   ]
  },
  {
   "cell_type": "markdown",
   "metadata": {},
   "source": [
    "### Tables View\n",
    "Gives us a much clearer idea of the distribution of the attributes using tables and comparing values"
   ]
  },
  {
   "cell_type": "markdown",
   "metadata": {},
   "source": [
    "**View 1:** In the table below we compared the number of days and the party size and observe:\n",
    "\n",
    "- Monday, Tuesday and Wednesday were not taken in consideration for this dataset purpose, or there is the possibility that the waitress did not have shift at these days. \n",
    "- The average visit of parties on Fridays is considerable low compared with the rest of the days recorded. There should be evaluated the causes this is not a normal average for Friday, althought the possibility the waitress worked a limit ammount of hours should be consider as well. \n",
    "- The days with more visit are Saturdays followed by Sundays as expected for weekends"
   ]
  },
  {
   "cell_type": "code",
   "execution_count": 51,
   "metadata": {},
   "outputs": [
    {
     "name": "stdout",
     "output_type": "stream",
     "text": [
      "day\n",
      "Fri     19\n",
      "Sat     87\n",
      "Sun     76\n",
      "Thur    62\n",
      "dtype: int64\n"
     ]
    }
   ],
   "source": [
    "print(df.groupby('day').size())"
   ]
  },
  {
   "cell_type": "markdown",
   "metadata": {},
   "source": [
    "**View 2:** In the table below we compared the day of the week and time of visit, taking gender per count and observe:\n",
    "\n",
    "- There is no recorder information on lunch for Saturday or Sunday which mean most of the visitors go for dinner on weekends\n",
    "- There is just 1 visit for dinner on Thursday which is not a normal rate compared with the rest of 61 that visited during lunch. Need to be reviewed to apply changes as necessary\n",
    "- In general, there is more visit of people for dinner"
   ]
  },
  {
   "cell_type": "code",
   "execution_count": 52,
   "metadata": {},
   "outputs": [
    {
     "data": {
      "text/html": [
       "<div>\n",
       "<style scoped>\n",
       "    .dataframe tbody tr th:only-of-type {\n",
       "        vertical-align: middle;\n",
       "    }\n",
       "\n",
       "    .dataframe tbody tr th {\n",
       "        vertical-align: top;\n",
       "    }\n",
       "\n",
       "    .dataframe thead th {\n",
       "        text-align: right;\n",
       "    }\n",
       "</style>\n",
       "<table border=\"1\" class=\"dataframe\">\n",
       "  <thead>\n",
       "    <tr style=\"text-align: right;\">\n",
       "      <th></th>\n",
       "      <th></th>\n",
       "      <th>sex</th>\n",
       "    </tr>\n",
       "    <tr>\n",
       "      <th>day</th>\n",
       "      <th>time</th>\n",
       "      <th></th>\n",
       "    </tr>\n",
       "  </thead>\n",
       "  <tbody>\n",
       "    <tr>\n",
       "      <td rowspan=\"2\" valign=\"top\">Fri</td>\n",
       "      <td>Dinner</td>\n",
       "      <td>12</td>\n",
       "    </tr>\n",
       "    <tr>\n",
       "      <td>Lunch</td>\n",
       "      <td>7</td>\n",
       "    </tr>\n",
       "    <tr>\n",
       "      <td>Sat</td>\n",
       "      <td>Dinner</td>\n",
       "      <td>87</td>\n",
       "    </tr>\n",
       "    <tr>\n",
       "      <td>Sun</td>\n",
       "      <td>Dinner</td>\n",
       "      <td>76</td>\n",
       "    </tr>\n",
       "    <tr>\n",
       "      <td rowspan=\"2\" valign=\"top\">Thur</td>\n",
       "      <td>Dinner</td>\n",
       "      <td>1</td>\n",
       "    </tr>\n",
       "    <tr>\n",
       "      <td>Lunch</td>\n",
       "      <td>61</td>\n",
       "    </tr>\n",
       "  </tbody>\n",
       "</table>\n",
       "</div>"
      ],
      "text/plain": [
       "             sex\n",
       "day  time       \n",
       "Fri  Dinner   12\n",
       "     Lunch     7\n",
       "Sat  Dinner   87\n",
       "Sun  Dinner   76\n",
       "Thur Dinner    1\n",
       "     Lunch    61"
      ]
     },
     "execution_count": 52,
     "metadata": {},
     "output_type": "execute_result"
    }
   ],
   "source": [
    "df[['day', 'time', 'sex']].groupby(['day', 'time']).count()"
   ]
  },
  {
   "cell_type": "markdown",
   "metadata": {},
   "source": [
    "**View 3:** In the table below we compared the average bill and tips per gender. \n",
    "\n",
    "- In average men pay slightly more in bills and give slightly less tips than females, if we compare by percentaje the media between the ammount they pay for total of the bill and the tip.  \n",
    "- Men and woman has similar size of tables media, there is not considerable difference"
   ]
  },
  {
   "cell_type": "code",
   "execution_count": 53,
   "metadata": {},
   "outputs": [
    {
     "name": "stdout",
     "output_type": "stream",
     "text": [
      "        Unnamed: 0  total_bill       tip      size\n",
      "sex                                               \n",
      "Female  129.080460   18.056897  2.833448  2.459770\n",
      "Male    118.853503   20.744076  3.089618  2.630573\n"
     ]
    }
   ],
   "source": [
    "print(df.groupby('sex').mean())\n"
   ]
  },
  {
   "cell_type": "markdown",
   "metadata": {},
   "source": [
    "**View 4:** In the table below we compared the gender and size of tables per day of week and observe:\n",
    "\n",
    "- Woman prefer the visit on Thursday and Saturday \n",
    "- Men give preferences to Saturday and Sundays"
   ]
  },
  {
   "cell_type": "code",
   "execution_count": 54,
   "metadata": {},
   "outputs": [
    {
     "data": {
      "text/html": [
       "<div>\n",
       "<style scoped>\n",
       "    .dataframe tbody tr th:only-of-type {\n",
       "        vertical-align: middle;\n",
       "    }\n",
       "\n",
       "    .dataframe tbody tr th {\n",
       "        vertical-align: top;\n",
       "    }\n",
       "\n",
       "    .dataframe thead th {\n",
       "        text-align: right;\n",
       "    }\n",
       "</style>\n",
       "<table border=\"1\" class=\"dataframe\">\n",
       "  <thead>\n",
       "    <tr style=\"text-align: right;\">\n",
       "      <th></th>\n",
       "      <th></th>\n",
       "      <th>size</th>\n",
       "    </tr>\n",
       "    <tr>\n",
       "      <th>day</th>\n",
       "      <th>sex</th>\n",
       "      <th></th>\n",
       "    </tr>\n",
       "  </thead>\n",
       "  <tbody>\n",
       "    <tr>\n",
       "      <td rowspan=\"2\" valign=\"top\">Fri</td>\n",
       "      <td>Female</td>\n",
       "      <td>9</td>\n",
       "    </tr>\n",
       "    <tr>\n",
       "      <td>Male</td>\n",
       "      <td>10</td>\n",
       "    </tr>\n",
       "    <tr>\n",
       "      <td rowspan=\"2\" valign=\"top\">Sat</td>\n",
       "      <td>Female</td>\n",
       "      <td>28</td>\n",
       "    </tr>\n",
       "    <tr>\n",
       "      <td>Male</td>\n",
       "      <td>59</td>\n",
       "    </tr>\n",
       "    <tr>\n",
       "      <td rowspan=\"2\" valign=\"top\">Sun</td>\n",
       "      <td>Female</td>\n",
       "      <td>18</td>\n",
       "    </tr>\n",
       "    <tr>\n",
       "      <td>Male</td>\n",
       "      <td>58</td>\n",
       "    </tr>\n",
       "    <tr>\n",
       "      <td rowspan=\"2\" valign=\"top\">Thur</td>\n",
       "      <td>Female</td>\n",
       "      <td>32</td>\n",
       "    </tr>\n",
       "    <tr>\n",
       "      <td>Male</td>\n",
       "      <td>30</td>\n",
       "    </tr>\n",
       "  </tbody>\n",
       "</table>\n",
       "</div>"
      ],
      "text/plain": [
       "             size\n",
       "day  sex         \n",
       "Fri  Female     9\n",
       "     Male      10\n",
       "Sat  Female    28\n",
       "     Male      59\n",
       "Sun  Female    18\n",
       "     Male      58\n",
       "Thur Female    32\n",
       "     Male      30"
      ]
     },
     "execution_count": 54,
     "metadata": {},
     "output_type": "execute_result"
    }
   ],
   "source": [
    "df[['day', 'sex', 'size']].groupby(['day', 'sex']).count()"
   ]
  },
  {
   "cell_type": "markdown",
   "metadata": {},
   "source": [
    "**View 5:** In the table below we compared smoker per gender, counting with the size and observe:\n",
    "\n",
    "- More parties were seated in the non smoking section, no significant different between mean and woman on this.\n",
    "- In total there are more males that go to the restaurant than females. "
   ]
  },
  {
   "cell_type": "code",
   "execution_count": 55,
   "metadata": {},
   "outputs": [
    {
     "data": {
      "text/html": [
       "<div>\n",
       "<style scoped>\n",
       "    .dataframe tbody tr th:only-of-type {\n",
       "        vertical-align: middle;\n",
       "    }\n",
       "\n",
       "    .dataframe tbody tr th {\n",
       "        vertical-align: top;\n",
       "    }\n",
       "\n",
       "    .dataframe thead th {\n",
       "        text-align: right;\n",
       "    }\n",
       "</style>\n",
       "<table border=\"1\" class=\"dataframe\">\n",
       "  <thead>\n",
       "    <tr style=\"text-align: right;\">\n",
       "      <th></th>\n",
       "      <th></th>\n",
       "      <th>size</th>\n",
       "    </tr>\n",
       "    <tr>\n",
       "      <th>sex</th>\n",
       "      <th>smoker</th>\n",
       "      <th></th>\n",
       "    </tr>\n",
       "  </thead>\n",
       "  <tbody>\n",
       "    <tr>\n",
       "      <td rowspan=\"2\" valign=\"top\">Female</td>\n",
       "      <td>No</td>\n",
       "      <td>54</td>\n",
       "    </tr>\n",
       "    <tr>\n",
       "      <td>Yes</td>\n",
       "      <td>33</td>\n",
       "    </tr>\n",
       "    <tr>\n",
       "      <td rowspan=\"2\" valign=\"top\">Male</td>\n",
       "      <td>No</td>\n",
       "      <td>97</td>\n",
       "    </tr>\n",
       "    <tr>\n",
       "      <td>Yes</td>\n",
       "      <td>60</td>\n",
       "    </tr>\n",
       "  </tbody>\n",
       "</table>\n",
       "</div>"
      ],
      "text/plain": [
       "               size\n",
       "sex    smoker      \n",
       "Female No        54\n",
       "       Yes       33\n",
       "Male   No        97\n",
       "       Yes       60"
      ]
     },
     "execution_count": 55,
     "metadata": {},
     "output_type": "execute_result"
    }
   ],
   "source": [
    "df[['sex', 'smoker', 'size']].groupby(['sex', 'smoker']).count()"
   ]
  },
  {
   "cell_type": "markdown",
   "metadata": {},
   "source": [
    "### Data view \n",
    "Gives us a much clearer idea of the distribution of the attributes using plots."
   ]
  },
  {
   "cell_type": "markdown",
   "metadata": {},
   "source": [
    "As summary of what we can see on the plots below: \n",
    "\n",
    "- Most of the reservation are for 2 person\n",
    "- Most of the tips are around 1,98 and 3 dollars and the total bill between 12 and 18 dollars approximately \n",
    "- Saturday and Sundays the number of men are the double or more than woman.\n",
    "- Sundays is the day with most visit of table for 4.\n",
    "- Friday is the only day of the week were most parties prefer smoker area"
   ]
  },
  {
   "cell_type": "markdown",
   "metadata": {},
   "source": [
    "**Table 1:** Histogram with all the numeric variables"
   ]
  },
  {
   "cell_type": "code",
   "execution_count": 56,
   "metadata": {},
   "outputs": [],
   "source": [
    "%matplotlib inline"
   ]
  },
  {
   "cell_type": "code",
   "execution_count": 57,
   "metadata": {},
   "outputs": [
    {
     "name": "stderr",
     "output_type": "stream",
     "text": [
      "C:\\Users\\kado4\\AppData\\Local\\Continuum\\anaconda3\\lib\\site-packages\\ipykernel_launcher.py:3: UserWarning: To output multiple subplots, the figure containing the passed axes is being cleared\n",
      "  This is separate from the ipykernel package so we can avoid doing imports until\n"
     ]
    },
    {
     "data": {
      "text/plain": [
       "array([[<matplotlib.axes._subplots.AxesSubplot object at 0x0000024F97CE4248>,\n",
       "        <matplotlib.axes._subplots.AxesSubplot object at 0x0000024F97D3C508>],\n",
       "       [<matplotlib.axes._subplots.AxesSubplot object at 0x0000024F97D76388>,\n",
       "        <matplotlib.axes._subplots.AxesSubplot object at 0x0000024F97DAF488>]],\n",
       "      dtype=object)"
      ]
     },
     "execution_count": 57,
     "metadata": {},
     "output_type": "execute_result"
    },
    {
     "data": {
      "image/png": "[encoded data removed]",
      "text/plain": [
       "<Figure size 576x576 with 4 Axes>"
      ]
     },
     "metadata": {
      "needs_background": "light"
     },
     "output_type": "display_data"
    }
   ],
   "source": [
    "fig = plt.figure(figsize = (8,8))\n",
    "ax = fig.gca()\n",
    "df.hist(ax = ax)"
   ]
  },
  {
   "cell_type": "markdown",
   "metadata": {},
   "source": [
    "**Table 2:** Histogram with parties per day and sex"
   ]
  },
  {
   "cell_type": "code",
   "execution_count": 58,
   "metadata": {},
   "outputs": [
    {
     "data": {
      "text/plain": [
       "<matplotlib.axes._subplots.AxesSubplot at 0x24f980879c8>"
      ]
     },
     "execution_count": 58,
     "metadata": {},
     "output_type": "execute_result"
    },
    {
     "data": {
      "image/png": "[encoded data removed]",
      "text/plain": [
       "<Figure size 432x288 with 1 Axes>"
      ]
     },
     "metadata": {
      "needs_background": "light"
     },
     "output_type": "display_data"
    }
   ],
   "source": [
    "sns.countplot(x='day',hue='sex' ,data=df) "
   ]
  },
  {
   "cell_type": "markdown",
   "metadata": {},
   "source": [
    "**Table 3:** Histogram with parties per day and size"
   ]
  },
  {
   "cell_type": "code",
   "execution_count": 59,
   "metadata": {},
   "outputs": [
    {
     "data": {
      "text/plain": [
       "<matplotlib.axes._subplots.AxesSubplot at 0x24f97ed1a08>"
      ]
     },
     "execution_count": 59,
     "metadata": {},
     "output_type": "execute_result"
    },
    {
     "data": {
      "image/png": "[encoded data removed]",
      "text/plain": [
       "<Figure size 432x288 with 1 Axes>"
      ]
     },
     "metadata": {
      "needs_background": "light"
     },
     "output_type": "display_data"
    }
   ],
   "source": [
    "sns.countplot(x='day',hue='size' ,data=df) "
   ]
  },
  {
   "cell_type": "markdown",
   "metadata": {},
   "source": [
    "**Table 4:** Histogram with smoking preferences"
   ]
  },
  {
   "cell_type": "code",
   "execution_count": 60,
   "metadata": {},
   "outputs": [
    {
     "data": {
      "text/plain": [
       "<matplotlib.axes._subplots.AxesSubplot at 0x24f97f7b288>"
      ]
     },
     "execution_count": 60,
     "metadata": {},
     "output_type": "execute_result"
    },
    {
     "data": {
      "image/png": "[encoded data removed]",
      "text/plain": [
       "<Figure size 432x288 with 1 Axes>"
      ]
     },
     "metadata": {
      "needs_background": "light"
     },
     "output_type": "display_data"
    }
   ],
   "source": [
    "sns.countplot(x='day',hue='smoker' ,data=df) "
   ]
  },
  {
   "cell_type": "markdown",
   "metadata": {},
   "source": [
    "# Regresion\n",
    "Analyses relationship between the total bill and tip amount\n",
    "_______________________________________________________________________________________________________________________________"
   ]
  },
  {
   "cell_type": "markdown",
   "metadata": {},
   "source": [
    "Analysis: There are two ways of calculate the best fit line and relationship between the total bill and the tip amount. I have calculated in both ways for a better understanding. Taken as reference [GMIT training](https://web.microsoftstream.com/video/021a0f49-a019-4119-a08c-7601a9a7d0b5?referrer=https:%2F%2Flearnonline.gmit.ie%2Fcourse%2Fview.php%3Fid%3D689)"
   ]
  },
  {
   "cell_type": "markdown",
   "metadata": {},
   "source": [
    "- Find values for m and c that gives the lowest using Numpy funtion"
   ]
  },
  {
   "cell_type": "code",
   "execution_count": 61,
   "metadata": {},
   "outputs": [],
   "source": [
    "%matplotlib inline"
   ]
  },
  {
   "cell_type": "code",
   "execution_count": 62,
   "metadata": {},
   "outputs": [
    {
     "data": {
      "text/plain": [
       "array([0.10502452, 0.92026961])"
      ]
     },
     "execution_count": 62,
     "metadata": {},
     "output_type": "execute_result"
    }
   ],
   "source": [
    "## First we define the variables \n",
    "tb= df['total_bill']\n",
    "ta= df['tip']\n",
    "\n",
    "##Use of numpy funtion to calculate c and m\n",
    "np.polyfit(tb,ta,1)"
   ]
  },
  {
   "cell_type": "markdown",
   "metadata": {},
   "source": [
    "- Find values for m and c that gives the lowest using formulas"
   ]
  },
  {
   "cell_type": "code",
   "execution_count": 63,
   "metadata": {},
   "outputs": [
    {
     "name": "stdout",
     "output_type": "stream",
     "text": [
      "the best value for m is: 0.10502451738435341 and best value for  is c: 0.9202696135546722\n"
     ]
    }
   ],
   "source": [
    "## First we calculated the mean of total bill and tip ammount \n",
    "tb_avg=np.mean(tb)\n",
    "ta_avg=np.mean(ta)\n",
    "\n",
    "## Subtract mean from total bill and tip ammount \n",
    "tb_zero=tb - tb_avg\n",
    "ta_zero=ta - ta_avg\n",
    "\n",
    "## We calculate the best m as below \n",
    "m=np.sum(tb_zero*ta_zero)/np.sum(tb_zero*tb_zero)\n",
    "\n",
    "## Use m to calculate c as below\n",
    "c=ta_avg- m * tb_avg\n",
    "\n",
    "print (\"the best value for m is:\", m, \"and best value for  is c:\", c)"
   ]
  },
  {
   "cell_type": "markdown",
   "metadata": {},
   "source": [
    "### The plot of the best fit line \n",
    "In the plot below, we can see the best fit line between the total bill and the tip. There is no straight line that fit all the points. \n",
    "\n",
    "The tips tend to increase if the bill is higher.\n",
    "\n",
    "The bills of less than 10 and around 35 and 45 dollars seems to be the ones that are less generous tippers. In general the distributions seems even between generous tippers and not that generous. \n",
    "\n",
    "\n"
   ]
  },
  {
   "cell_type": "code",
   "execution_count": 64,
   "metadata": {},
   "outputs": [
    {
     "data": {
      "text/plain": [
       "<matplotlib.legend.Legend at 0x24f980e97c8>"
      ]
     },
     "execution_count": 64,
     "metadata": {},
     "output_type": "execute_result"
    },
    {
     "data": {
      "image/png": "[encoded data removed]",
      "text/plain": [
       "<Figure size 432x288 with 1 Axes>"
      ]
     },
     "metadata": {
      "needs_background": "light"
     },
     "output_type": "display_data"
    }
   ],
   "source": [
    "plt.plot (tb,ta,'k.',label='Original data')\n",
    "plt.plot (tb, m*tb+c,'b-', label='The best tip')\n",
    "plt.xlabel('Total Bill')\n",
    "plt.ylabel('Tips')\n",
    "plt.title(\"Regression Plot\")\n",
    "plt.legend()"
   ]
  },
  {
   "cell_type": "code",
   "execution_count": null,
   "metadata": {},
   "outputs": [],
   "source": []
  },
  {
   "cell_type": "markdown",
   "metadata": {},
   "source": [
    "\n",
    "References:\n",
    "\n",
    "- https://en.wikipedia.org/wiki/Data_set\n",
    "- https://rdrr.io/cran/regclass/man/TIPS.html\n",
    "- https://dicook.public.iastate.edu/stat503/05/cs-tips2.pdf\n",
    "- https://towardsdatascience.com/analyze-the-data-through-data-visualization-using-seaborn-255e1cd3948e\n",
    "- https://amitkushwaha.co.in/data-visualization-part-1.html\n",
    "- https://towardsdatascience.com/introduction-to-data-visualization-in-python-89a54c97fbed X\n",
    "- https://towardsdatascience.com/visualizing-data-with-pair-plots-in-python-f228cf529166 X\n",
    "- https://swcarpentry.github.io/python-novice-gapminder/09-plotting/\n",
    "- https://matplotlib.org/3.1.1/tutorials/introductory/sample_plots.html\n",
    "- https://medium.com/@madanflies/linear-regression-on-carprice-dataset-or-encoding-a-categorical-dataset-in-linear-regression-7378f207e5c1\n",
    "- https://towardsdatascience.com/linear-regression-on-boston-housing-dataset-f409b7e4a155\n",
    "- https://towardsdatascience.com/simple-and-multiple-linear-regression-with-python-c9ab422ec29c\n",
    "- https://hackernoon.com/predict-a-tip-using-machine-learning-aee94f467ef2\n",
    "- https://towardsdatascience.com/linear-regression-using-python-b136c91bf0a2\n",
    "- https://www.ritchieng.com/machine-learning-evaluate-linear-regression-model/\n",
    "- \n",
    "\n"
   ]
  },
  {
   "cell_type": "code",
   "execution_count": null,
   "metadata": {},
   "outputs": [],
   "source": []
  },
  {
   "cell_type": "code",
   "execution_count": null,
   "metadata": {},
   "outputs": [],
   "source": []
  },
  {
   "cell_type": "code",
   "execution_count": null,
   "metadata": {},
   "outputs": [],
   "source": []
  },
  {
   "cell_type": "code",
   "execution_count": null,
   "metadata": {},
   "outputs": [],
   "source": []
  },
  {
   "cell_type": "code",
   "execution_count": null,
   "metadata": {},
   "outputs": [],
   "source": []
  },
  {
   "cell_type": "code",
   "execution_count": null,
   "metadata": {},
   "outputs": [],
   "source": []
  },
  {
   "cell_type": "code",
   "execution_count": null,
   "metadata": {},
   "outputs": [],
   "source": []
  },
  {
   "cell_type": "code",
   "execution_count": null,
   "metadata": {},
   "outputs": [],
   "source": []
  },
  {
   "cell_type": "code",
   "execution_count": null,
   "metadata": {},
   "outputs": [],
   "source": []
  },
  {
   "cell_type": "code",
   "execution_count": null,
   "metadata": {},
   "outputs": [],
   "source": []
  },
  {
   "cell_type": "code",
   "execution_count": null,
   "metadata": {},
   "outputs": [],
   "source": []
  },
  {
   "cell_type": "code",
   "execution_count": null,
   "metadata": {},
   "outputs": [],
   "source": []
  },
  {
   "cell_type": "code",
   "execution_count": null,
   "metadata": {},
   "outputs": [],
   "source": []
  },
  {
   "cell_type": "code",
   "execution_count": null,
   "metadata": {},
   "outputs": [],
   "source": []
  },
  {
   "cell_type": "code",
   "execution_count": null,
   "metadata": {},
   "outputs": [],
   "source": []
  },
  {
   "cell_type": "code",
   "execution_count": null,
   "metadata": {},
   "outputs": [],
   "source": []
  },
  {
   "cell_type": "code",
   "execution_count": null,
   "metadata": {},
   "outputs": [],
   "source": []
  },
  {
   "cell_type": "code",
   "execution_count": null,
   "metadata": {},
   "outputs": [],
   "source": []
  }
 ],
 "metadata": {
  "kernelspec": {
   "display_name": "Python 3",
   "language": "python",
   "name": "python3"
  },
  "language_info": {
   "codemirror_mode": {
    "name": "ipython",
    "version": 3
   },
   "file_extension": ".py",
   "mimetype": "text/x-python",
   "name": "python",
   "nbconvert_exporter": "python",
   "pygments_lexer": "ipython3",
   "version": "3.7.4"
  }
 },
 "nbformat": 4,
 "nbformat_minor": 2
}
